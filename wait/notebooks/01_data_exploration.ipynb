{
 "cells": [
  {
   "cell_type": "markdown",
   "metadata": {},
   "source": [
    "## Road Surface Classification-StreetSurfaceVis"
   ]
  },
  {
   "cell_type": "markdown",
   "metadata": {},
   "source": [
    "NOTE from the document\n",
    "\n",
    "### Image Preprocessing\n",
    "Apply the recommended cropping to focus on the lower and middle half of the image, as this is where the labeled road surface is located.\n",
    "\n",
    "### Train-Test Split\n",
    "Respect the original split provided in the dataset (train=True for training data and train=False for test data) to avoid data leakage and ensure the model generalizes to unseen regions.\n",
    "\n",
    "### Data Exploration\n",
    "Verify that the training and testing data are geospatially distinct and meaningful, as described in the dataset documentation."
   ]
  },
  {
   "cell_type": "code",
   "execution_count": null,
   "metadata": {
    "vscode": {
     "languageId": "plaintext"
    }
   },
   "outputs": [],
   "source": [
    "import pandas as pd\n",
    "import plotly.express as px\n",
    "import os"
   ]
  },
  {
   "cell_type": "code",
   "execution_count": null,
   "metadata": {
    "vscode": {
     "languageId": "plaintext"
    }
   },
   "outputs": [],
   "source": [
    "\n",
    "# Load the dataset\n",
    "data_dir = \"data/StreetSurfaceVis_1024\"\n",
    "csv_path = os.path.join(data_dir, \"streetSurfaceVis_v1_0.csv\")\n",
    "df = pd.read_csv(csv_path)\n"
   ]
  },
  {
   "cell_type": "code",
   "execution_count": null,
   "metadata": {
    "vscode": {
     "languageId": "plaintext"
    }
   },
   "outputs": [],
   "source": [
    "\n",
    "# Add a column to distinguish train and test data\n",
    "df[\"split\"] = df[\"train\"].apply(lambda x: \"Train\" if x else \"Test\")\n"
   ]
  },
  {
   "cell_type": "code",
   "execution_count": null,
   "metadata": {
    "vscode": {
     "languageId": "plaintext"
    }
   },
   "outputs": [],
   "source": [
    "\n",
    "# Plot geographical distribution\n",
    "fig = px.scatter_geo(df, \n",
    "                     lat=\"latitude\", \n",
    "                     lon=\"longitude\", \n",
    "                     color=\"split\", \n",
    "                     title=\"Geographical Distribution of Train and Test Data\",\n",
    "                     scope=\"world\",\n",
    "                     hover_name=\"surface_type\",\n",
    "                     hover_data=[\"surface_quality\", \"captured_at\"])\n",
    "fig.update_layout(legend_title_text=\"Data Split\")\n",
    "fig.show()"
   ]
  },
  {
   "cell_type": "code",
   "execution_count": null,
   "metadata": {
    "vscode": {
     "languageId": "plaintext"
    }
   },
   "outputs": [],
   "source": [
    "# Distribution of surface types\n",
    "print(\"Surface Type Distribution:\")\n",
    "print(df[\"surface_type\"].value_counts())\n",
    "\n",
    "# Distribution of surface quality\n",
    "print(\"\\nSurface Quality Distribution:\")\n",
    "print(df[\"surface_quality\"].value_counts())\n",
    "\n",
    "# Correlation between surface type and quality\n",
    "plt.figure(figsize=(10, 6))\n",
    "sns.boxplot(data=df, x=\"surface_type\", y=\"surface_quality\")\n",
    "plt.title(\"Surface Quality by Surface Type\")\n",
    "plt.xlabel(\"Surface Type\")\n",
    "plt.ylabel(\"Surface Quality\")\n",
    "plt.show()"
   ]
  }
 ],
 "metadata": {
  "language_info": {
   "name": "python"
  }
 },
 "nbformat": 4,
 "nbformat_minor": 2
}
