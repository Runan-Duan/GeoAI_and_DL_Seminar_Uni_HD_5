{
  "nbformat": 4,
  "nbformat_minor": 0,
  "metadata": {
    "colab": {
      "provenance": [],
      "gpuType": "T4",
      "authorship_tag": "ABX9TyMjm99XPUXr5yClUYJujX/J",
      "include_colab_link": true
    },
    "kernelspec": {
      "name": "python3",
      "display_name": "Python 3"
    },
    "language_info": {
      "name": "python"
    },
    "accelerator": "GPU"
  },
  "cells": [
    {
      "cell_type": "markdown",
      "metadata": {
        "id": "view-in-github",
        "colab_type": "text"
      },
      "source": [
        "<a href=\"https://colab.research.google.com/github/Runan-Duan/GeoAI_and_DL_Seminar_Uni_HD_5/blob/Runan/StreetSurface.ipynb\" target=\"_parent\"><img src=\"https://colab.research.google.com/assets/colab-badge.svg\" alt=\"Open In Colab\"/></a>"
      ]
    },
    {
      "cell_type": "code",
      "execution_count": 2,
      "metadata": {
        "colab": {
          "base_uri": "https://localhost:8080/"
        },
        "id": "gwqGmxr89Nx3",
        "outputId": "aa73e7bc-7a95-4c6f-d3e0-449d0952cbbe"
      },
      "outputs": [
        {
          "output_type": "stream",
          "name": "stdout",
          "text": [
            "Mounted at /content/drive\n"
          ]
        }
      ],
      "source": [
        "from google.colab import drive\n",
        "drive.mount('/content/drive', force_remount=True)"
      ]
    },
    {
      "cell_type": "code",
      "source": [
        "%pwd"
      ],
      "metadata": {
        "colab": {
          "base_uri": "https://localhost:8080/",
          "height": 35
        },
        "id": "nh5NUhZn-Lo_",
        "outputId": "8de7bfed-296f-4880-eb80-99694a922eb0"
      },
      "execution_count": 4,
      "outputs": [
        {
          "output_type": "execute_result",
          "data": {
            "text/plain": [
              "'/content'"
            ],
            "application/vnd.google.colaboratory.intrinsic+json": {
              "type": "string"
            }
          },
          "metadata": {},
          "execution_count": 4
        }
      ]
    },
    {
      "cell_type": "code",
      "source": [
        "!nvidia-smi"
      ],
      "metadata": {
        "colab": {
          "base_uri": "https://localhost:8080/"
        },
        "id": "3_beywjh-N6j",
        "outputId": "34cd14fd-53ad-47f6-bd77-e0aab257a995"
      },
      "execution_count": 1,
      "outputs": [
        {
          "output_type": "stream",
          "name": "stdout",
          "text": [
            "Mon Mar  3 17:06:32 2025       \n",
            "+-----------------------------------------------------------------------------------------+\n",
            "| NVIDIA-SMI 550.54.15              Driver Version: 550.54.15      CUDA Version: 12.4     |\n",
            "|-----------------------------------------+------------------------+----------------------+\n",
            "| GPU  Name                 Persistence-M | Bus-Id          Disp.A | Volatile Uncorr. ECC |\n",
            "| Fan  Temp   Perf          Pwr:Usage/Cap |           Memory-Usage | GPU-Util  Compute M. |\n",
            "|                                         |                        |               MIG M. |\n",
            "|=========================================+========================+======================|\n",
            "|   0  Tesla T4                       Off |   00000000:00:04.0 Off |                    0 |\n",
            "| N/A   70C    P8             11W /   70W |       0MiB /  15360MiB |      0%      Default |\n",
            "|                                         |                        |                  N/A |\n",
            "+-----------------------------------------+------------------------+----------------------+\n",
            "                                                                                         \n",
            "+-----------------------------------------------------------------------------------------+\n",
            "| Processes:                                                                              |\n",
            "|  GPU   GI   CI        PID   Type   Process name                              GPU Memory |\n",
            "|        ID   ID                                                               Usage      |\n",
            "|=========================================================================================|\n",
            "|  No running processes found                                                             |\n",
            "+-----------------------------------------------------------------------------------------+\n"
          ]
        }
      ]
    },
    {
      "cell_type": "code",
      "source": [
        "%cd drive/MyDrive/myproject/"
      ],
      "metadata": {
        "colab": {
          "base_uri": "https://localhost:8080/"
        },
        "id": "mFIlJviG_E_b",
        "outputId": "5498a142-8ed3-4f4a-b477-3b8c2a656382"
      },
      "execution_count": 3,
      "outputs": [
        {
          "output_type": "stream",
          "name": "stdout",
          "text": [
            "/content/drive/MyDrive/myproject\n"
          ]
        }
      ]
    },
    {
      "cell_type": "code",
      "source": [
        "!pip install -r requirements.txt"
      ],
      "metadata": {
        "id": "iK7v7Ecw-xpN"
      },
      "execution_count": null,
      "outputs": []
    },
    {
      "cell_type": "code",
      "source": [
        "%mkdir -p data/processed models logs results"
      ],
      "metadata": {
        "id": "dqNwIcWGBcrl"
      },
      "execution_count": 10,
      "outputs": []
    },
    {
      "cell_type": "code",
      "source": [
        "!tar -xvf drive/MyDrive/StreetSurfaceVis_1024.tar"
      ],
      "metadata": {
        "id": "m_z3ZiRECbfy"
      },
      "execution_count": null,
      "outputs": []
    },
    {
      "cell_type": "code",
      "source": [
        "%cd drive/MyDrive/myproject/"
      ],
      "metadata": {
        "colab": {
          "base_uri": "https://localhost:8080/"
        },
        "id": "DWtVh-LlB6we",
        "outputId": "1965bfe7-5302-4251-acb1-bbb055c250f2"
      },
      "execution_count": 28,
      "outputs": [
        {
          "output_type": "stream",
          "name": "stdout",
          "text": [
            "/content/drive/MyDrive/myproject\n"
          ]
        }
      ]
    },
    {
      "cell_type": "code",
      "source": [
        "import sys\n",
        "import os\n",
        "\n",
        "# Add the folder to the Python path\n",
        "sys.path.append('/content/drive/MyDrive/myproject/code')"
      ],
      "metadata": {
        "id": "uWd0tpI0KCTM"
      },
      "execution_count": 30,
      "outputs": []
    },
    {
      "cell_type": "code",
      "source": [
        "%cd code"
      ],
      "metadata": {
        "colab": {
          "base_uri": "https://localhost:8080/"
        },
        "id": "PeTnsyspKPtO",
        "outputId": "9dd3e532-08b1-47ad-fb80-d89ceefdb8c1"
      },
      "execution_count": 33,
      "outputs": [
        {
          "output_type": "stream",
          "name": "stdout",
          "text": [
            "/content/drive/MyDrive/myproject/code\n"
          ]
        }
      ]
    },
    {
      "cell_type": "code",
      "source": [
        "!python scripts/train.py --config ../config/street_surface.yaml"
      ],
      "metadata": {
        "colab": {
          "base_uri": "https://localhost:8080/"
        },
        "id": "ZC0TKdmyGLEm",
        "outputId": "96201030-5521-477b-849a-d4abf85557d2"
      },
      "execution_count": 40,
      "outputs": [
        {
          "output_type": "stream",
          "name": "stdout",
          "text": [
            "2025-03-03 18:18:28,488 - INFO - Logging setup complete.\n",
            "2025-03-03 18:18:28,488 - INFO - Created directory: ../data/processed\n",
            "2025-03-03 18:18:28,489 - INFO - Created directory: ../models\n",
            "2025-03-03 18:18:28,489 - INFO - Created directory: ../logs\n",
            "2025-03-03 18:18:28,489 - INFO - Created directory: ../results\n",
            "/usr/local/lib/python3.11/dist-packages/torch/hub.py:330: UserWarning: You are about to download and run code from an untrusted repository. In a future release, this won't be allowed. To add the repository to your trusted list, change the command to {calling_fn}(..., trust_repo=False) and a command prompt will appear asking for an explicit confirmation of trust, or load(..., trust_repo=True), which will assume that the prompt is to be answered with 'yes'. You can also use load(..., trust_repo='check') which will only prompt for confirmation if the repo is not already trusted. This will eventually be the default behaviour\n",
            "  warnings.warn(\n",
            "Downloading: \"https://github.com/NVIDIA/DeepLearningExamples/zipball/torchhub\" to /root/.cache/torch/hub/torchhub.zip\n",
            "/root/.cache/torch/hub/NVIDIA_DeepLearningExamples_torchhub/PyTorch/Classification/ConvNets/image_classification/models/common.py:13: UserWarning: pytorch_quantization module not found, quantization will not be available\n",
            "  warnings.warn(\n",
            "/root/.cache/torch/hub/NVIDIA_DeepLearningExamples_torchhub/PyTorch/Classification/ConvNets/image_classification/models/efficientnet.py:17: UserWarning: pytorch_quantization module not found, quantization will not be available\n",
            "  warnings.warn(\n",
            "Downloading: \"https://api.ngc.nvidia.com/v2/models/nvidia/efficientnet_b0_pyt_amp/versions/20.12.0/files/nvidia_efficientnet-b0_210412.pth\" to /root/.cache/torch/hub/checkpoints/nvidia_efficientnet-b0_210412.pth\n",
            "100% 20.5M/20.5M [00:00<00:00, 32.8MB/s]\n",
            "2025-03-03 18:18:40,923 - INFO - Initialized efficientnet with 5 classes\n",
            "2025-03-03 18:18:43,654 - INFO - Train Epoch: 1 [0/8346 (0%)]\tLoss: 1.592625, Accuracy: 0.2812\n",
            "2025-03-03 18:21:00,107 - INFO - Train Epoch: 1 [6400/8346 (77%)]\tLoss: 0.443112, Accuracy: 0.9062\n",
            "2025-03-03 18:21:54,782 - INFO - Validation set: Average loss: 0.0123, Accuracy: 686/776 (88.40%)\n",
            "2025-03-03 18:21:54,782 - INFO - Epoch 1 - Train Loss: 0.4181, Val Loss: 0.0123, Val Accuracy: 88.40%\n",
            "2025-03-03 18:21:55,451 - INFO - Train Epoch: 2 [0/8346 (0%)]\tLoss: 0.264232, Accuracy: 0.8750\n",
            "2025-03-03 18:24:10,571 - INFO - Train Epoch: 2 [6400/8346 (77%)]\tLoss: 0.173303, Accuracy: 0.9375\n",
            "2025-03-03 18:25:04,171 - INFO - Validation set: Average loss: 0.0102, Accuracy: 718/776 (92.53%)\n",
            "2025-03-03 18:25:04,171 - INFO - Epoch 2 - Train Loss: 0.2479, Val Loss: 0.0102, Val Accuracy: 92.53%\n",
            "2025-03-03 18:25:04,830 - INFO - Train Epoch: 3 [0/8346 (0%)]\tLoss: 0.221779, Accuracy: 0.9688\n",
            "2025-03-03 18:27:19,017 - INFO - Train Epoch: 3 [6400/8346 (77%)]\tLoss: 0.032761, Accuracy: 1.0000\n",
            "2025-03-03 18:28:12,755 - INFO - Validation set: Average loss: 0.0174, Accuracy: 648/776 (83.51%)\n",
            "2025-03-03 18:28:12,755 - INFO - Epoch 3 - Train Loss: 0.1874, Val Loss: 0.0174, Val Accuracy: 83.51%\n",
            "2025-03-03 18:28:13,469 - INFO - Train Epoch: 4 [0/8346 (0%)]\tLoss: 0.068782, Accuracy: 0.9688\n",
            "2025-03-03 18:30:29,099 - INFO - Train Epoch: 4 [6400/8346 (77%)]\tLoss: 0.229377, Accuracy: 0.9062\n",
            "2025-03-03 18:31:22,463 - INFO - Validation set: Average loss: 0.0151, Accuracy: 652/776 (84.02%)\n",
            "2025-03-03 18:31:22,463 - INFO - Epoch 4 - Train Loss: 0.1723, Val Loss: 0.0151, Val Accuracy: 84.02%\n",
            "2025-03-03 18:31:23,342 - INFO - Train Epoch: 5 [0/8346 (0%)]\tLoss: 0.090102, Accuracy: 1.0000\n",
            "2025-03-03 18:33:37,369 - INFO - Train Epoch: 5 [6400/8346 (77%)]\tLoss: 0.023167, Accuracy: 1.0000\n",
            "2025-03-03 18:34:30,711 - INFO - Validation set: Average loss: 0.0137, Accuracy: 680/776 (87.63%)\n",
            "2025-03-03 18:34:30,712 - INFO - Epoch 5 - Train Loss: 0.1224, Val Loss: 0.0137, Val Accuracy: 87.63%\n",
            "2025-03-03 18:34:31,392 - INFO - Train Epoch: 6 [0/8346 (0%)]\tLoss: 0.172734, Accuracy: 0.9688\n",
            "2025-03-03 18:36:45,847 - INFO - Train Epoch: 6 [6400/8346 (77%)]\tLoss: 0.057018, Accuracy: 0.9688\n",
            "2025-03-03 18:37:39,010 - INFO - Validation set: Average loss: 0.0143, Accuracy: 671/776 (86.47%)\n",
            "2025-03-03 18:37:39,010 - INFO - Epoch 6 - Train Loss: 0.0961, Val Loss: 0.0143, Val Accuracy: 86.47%\n",
            "2025-03-03 18:37:39,689 - INFO - Train Epoch: 7 [0/8346 (0%)]\tLoss: 0.066217, Accuracy: 0.9375\n",
            "2025-03-03 18:40:07,599 - INFO - Train Epoch: 7 [6400/8346 (77%)]\tLoss: 0.027381, Accuracy: 1.0000\n",
            "2025-03-03 18:41:04,986 - INFO - Validation set: Average loss: 0.0259, Accuracy: 589/776 (75.90%)\n",
            "2025-03-03 18:41:04,986 - INFO - Epoch 7 - Train Loss: 0.1089, Val Loss: 0.0259, Val Accuracy: 75.90%\n",
            "2025-03-03 18:41:05,688 - INFO - Train Epoch: 8 [0/8346 (0%)]\tLoss: 0.076333, Accuracy: 1.0000\n",
            "2025-03-03 18:43:19,488 - INFO - Train Epoch: 8 [6400/8346 (77%)]\tLoss: 0.023325, Accuracy: 1.0000\n",
            "2025-03-03 18:44:13,215 - INFO - Validation set: Average loss: 0.0133, Accuracy: 694/776 (89.43%)\n",
            "2025-03-03 18:44:13,215 - INFO - Epoch 8 - Train Loss: 0.0873, Val Loss: 0.0133, Val Accuracy: 89.43%\n",
            "2025-03-03 18:44:13,905 - INFO - Train Epoch: 9 [0/8346 (0%)]\tLoss: 0.192426, Accuracy: 0.9062\n",
            "2025-03-03 18:46:28,010 - INFO - Train Epoch: 9 [6400/8346 (77%)]\tLoss: 0.103782, Accuracy: 0.9375\n",
            "2025-03-03 18:47:21,091 - INFO - Validation set: Average loss: 0.0093, Accuracy: 718/776 (92.53%)\n",
            "2025-03-03 18:47:21,091 - INFO - Epoch 9 - Train Loss: 0.0861, Val Loss: 0.0093, Val Accuracy: 92.53%\n",
            "2025-03-03 18:47:21,777 - INFO - Train Epoch: 10 [0/8346 (0%)]\tLoss: 0.127160, Accuracy: 0.9688\n",
            "2025-03-03 18:49:35,591 - INFO - Train Epoch: 10 [6400/8346 (77%)]\tLoss: 0.031984, Accuracy: 1.0000\n",
            "2025-03-03 18:50:28,834 - INFO - Validation set: Average loss: 0.0130, Accuracy: 697/776 (89.82%)\n",
            "2025-03-03 18:50:28,834 - INFO - Epoch 10 - Train Loss: 0.0764, Val Loss: 0.0130, Val Accuracy: 89.82%\n",
            "2025-03-03 18:50:29,493 - INFO - Train Epoch: 11 [0/8346 (0%)]\tLoss: 0.018558, Accuracy: 1.0000\n",
            "2025-03-03 18:52:42,542 - INFO - Train Epoch: 11 [6400/8346 (77%)]\tLoss: 0.084167, Accuracy: 0.9688\n",
            "2025-03-03 18:53:37,059 - INFO - Validation set: Average loss: 0.0117, Accuracy: 706/776 (90.98%)\n",
            "2025-03-03 18:53:37,059 - INFO - Epoch 11 - Train Loss: 0.0723, Val Loss: 0.0117, Val Accuracy: 90.98%\n",
            "2025-03-03 18:53:38,001 - INFO - Train Epoch: 12 [0/8346 (0%)]\tLoss: 0.267651, Accuracy: 0.9062\n",
            "2025-03-03 18:56:04,016 - INFO - Train Epoch: 12 [6400/8346 (77%)]\tLoss: 0.001186, Accuracy: 1.0000\n",
            "2025-03-03 18:57:00,771 - INFO - Validation set: Average loss: 0.0210, Accuracy: 661/776 (85.18%)\n",
            "2025-03-03 18:57:00,772 - INFO - Epoch 12 - Train Loss: 0.0732, Val Loss: 0.0210, Val Accuracy: 85.18%\n",
            "2025-03-03 18:57:01,461 - INFO - Train Epoch: 13 [0/8346 (0%)]\tLoss: 0.164033, Accuracy: 0.9688\n",
            "2025-03-03 18:59:14,092 - INFO - Train Epoch: 13 [6400/8346 (77%)]\tLoss: 0.043117, Accuracy: 0.9688\n",
            "2025-03-03 19:00:06,691 - INFO - Validation set: Average loss: 0.0159, Accuracy: 704/776 (90.72%)\n",
            "2025-03-03 19:00:06,691 - INFO - Epoch 13 - Train Loss: 0.0698, Val Loss: 0.0159, Val Accuracy: 90.72%\n",
            "2025-03-03 19:00:07,362 - INFO - Train Epoch: 14 [0/8346 (0%)]\tLoss: 0.139949, Accuracy: 0.9688\n",
            "2025-03-03 19:02:19,576 - INFO - Train Epoch: 14 [6400/8346 (77%)]\tLoss: 0.003874, Accuracy: 1.0000\n",
            "2025-03-03 19:03:12,250 - INFO - Validation set: Average loss: 0.0206, Accuracy: 649/776 (83.63%)\n",
            "2025-03-03 19:03:12,250 - INFO - Epoch 14 - Train Loss: 0.0570, Val Loss: 0.0206, Val Accuracy: 83.63%\n",
            "2025-03-03 19:03:12,950 - INFO - Train Epoch: 15 [0/8346 (0%)]\tLoss: 0.007378, Accuracy: 1.0000\n",
            "2025-03-03 19:05:27,220 - INFO - Train Epoch: 15 [6400/8346 (77%)]\tLoss: 0.010731, Accuracy: 1.0000\n",
            "2025-03-03 19:06:20,685 - INFO - Validation set: Average loss: 0.0130, Accuracy: 709/776 (91.37%)\n",
            "2025-03-03 19:06:20,685 - INFO - Epoch 15 - Train Loss: 0.0567, Val Loss: 0.0130, Val Accuracy: 91.37%\n",
            "2025-03-03 19:06:21,403 - INFO - Train Epoch: 16 [0/8346 (0%)]\tLoss: 0.081654, Accuracy: 0.9688\n",
            "2025-03-03 19:08:34,638 - INFO - Train Epoch: 16 [6400/8346 (77%)]\tLoss: 0.007725, Accuracy: 1.0000\n",
            "2025-03-03 19:09:27,692 - INFO - Validation set: Average loss: 0.0172, Accuracy: 678/776 (87.37%)\n",
            "2025-03-03 19:09:27,692 - INFO - Epoch 16 - Train Loss: 0.0351, Val Loss: 0.0172, Val Accuracy: 87.37%\n",
            "2025-03-03 19:09:28,388 - INFO - Train Epoch: 17 [0/8346 (0%)]\tLoss: 0.042163, Accuracy: 1.0000\n",
            "2025-03-03 19:11:42,967 - INFO - Train Epoch: 17 [6400/8346 (77%)]\tLoss: 0.038157, Accuracy: 0.9688\n",
            "2025-03-03 19:12:36,627 - INFO - Validation set: Average loss: 0.0163, Accuracy: 680/776 (87.63%)\n",
            "2025-03-03 19:12:36,627 - INFO - Epoch 17 - Train Loss: 0.0543, Val Loss: 0.0163, Val Accuracy: 87.63%\n",
            "2025-03-03 19:12:37,431 - INFO - Train Epoch: 18 [0/8346 (0%)]\tLoss: 0.015970, Accuracy: 1.0000\n",
            "2025-03-03 19:14:50,441 - INFO - Train Epoch: 18 [6400/8346 (77%)]\tLoss: 0.093864, Accuracy: 0.9375\n",
            "2025-03-03 19:15:43,134 - INFO - Validation set: Average loss: 0.0124, Accuracy: 699/776 (90.08%)\n",
            "2025-03-03 19:15:43,134 - INFO - Epoch 18 - Train Loss: 0.0506, Val Loss: 0.0124, Val Accuracy: 90.08%\n",
            "2025-03-03 19:15:44,018 - INFO - Train Epoch: 19 [0/8346 (0%)]\tLoss: 0.057440, Accuracy: 0.9688\n",
            "2025-03-03 19:17:57,567 - INFO - Train Epoch: 19 [6400/8346 (77%)]\tLoss: 0.001618, Accuracy: 1.0000\n",
            "2025-03-03 19:18:50,166 - INFO - Validation set: Average loss: 0.0256, Accuracy: 632/776 (81.44%)\n",
            "2025-03-03 19:18:50,167 - INFO - Epoch 19 - Train Loss: 0.0396, Val Loss: 0.0256, Val Accuracy: 81.44%\n",
            "2025-03-03 19:18:50,853 - INFO - Train Epoch: 20 [0/8346 (0%)]\tLoss: 0.008870, Accuracy: 1.0000\n",
            "2025-03-03 19:21:03,105 - INFO - Train Epoch: 20 [6400/8346 (77%)]\tLoss: 0.059178, Accuracy: 0.9688\n",
            "2025-03-03 19:21:55,823 - INFO - Validation set: Average loss: 0.0133, Accuracy: 692/776 (89.18%)\n",
            "2025-03-03 19:21:55,823 - INFO - Epoch 20 - Train Loss: 0.0673, Val Loss: 0.0133, Val Accuracy: 89.18%\n",
            "2025-03-03 19:21:56,503 - INFO - Train Epoch: 21 [0/8346 (0%)]\tLoss: 0.058405, Accuracy: 0.9688\n",
            "2025-03-03 19:24:08,662 - INFO - Train Epoch: 21 [6400/8346 (77%)]\tLoss: 0.016962, Accuracy: 1.0000\n",
            "2025-03-03 19:25:01,432 - INFO - Validation set: Average loss: 0.0310, Accuracy: 593/776 (76.42%)\n",
            "2025-03-03 19:25:01,432 - INFO - Epoch 21 - Train Loss: 0.0478, Val Loss: 0.0310, Val Accuracy: 76.42%\n",
            "2025-03-03 19:25:02,091 - INFO - Train Epoch: 22 [0/8346 (0%)]\tLoss: 0.009364, Accuracy: 1.0000\n",
            "2025-03-03 19:27:15,203 - INFO - Train Epoch: 22 [6400/8346 (77%)]\tLoss: 0.033499, Accuracy: 0.9688\n",
            "2025-03-03 19:28:07,940 - INFO - Validation set: Average loss: 0.0137, Accuracy: 707/776 (91.11%)\n",
            "2025-03-03 19:28:07,941 - INFO - Epoch 22 - Train Loss: 0.0429, Val Loss: 0.0137, Val Accuracy: 91.11%\n",
            "2025-03-03 19:28:08,620 - INFO - Train Epoch: 23 [0/8346 (0%)]\tLoss: 0.061413, Accuracy: 0.9375\n",
            "2025-03-03 19:30:22,192 - INFO - Train Epoch: 23 [6400/8346 (77%)]\tLoss: 0.006930, Accuracy: 1.0000\n",
            "2025-03-03 19:31:15,216 - INFO - Validation set: Average loss: 0.0129, Accuracy: 723/776 (93.17%)\n",
            "2025-03-03 19:31:15,216 - INFO - Epoch 23 - Train Loss: 0.0314, Val Loss: 0.0129, Val Accuracy: 93.17%\n",
            "2025-03-03 19:31:16,033 - INFO - Train Epoch: 24 [0/8346 (0%)]\tLoss: 0.001561, Accuracy: 1.0000\n",
            "2025-03-03 19:33:28,753 - INFO - Train Epoch: 24 [6400/8346 (77%)]\tLoss: 0.026986, Accuracy: 1.0000\n",
            "2025-03-03 19:34:20,993 - INFO - Validation set: Average loss: 0.0126, Accuracy: 716/776 (92.27%)\n",
            "2025-03-03 19:34:20,993 - INFO - Epoch 24 - Train Loss: 0.0384, Val Loss: 0.0126, Val Accuracy: 92.27%\n",
            "2025-03-03 19:34:21,880 - INFO - Train Epoch: 25 [0/8346 (0%)]\tLoss: 0.022190, Accuracy: 1.0000\n",
            "2025-03-03 19:36:34,156 - INFO - Train Epoch: 25 [6400/8346 (77%)]\tLoss: 0.080426, Accuracy: 0.9688\n",
            "2025-03-03 19:37:27,147 - INFO - Validation set: Average loss: 0.0143, Accuracy: 708/776 (91.24%)\n",
            "2025-03-03 19:37:27,147 - INFO - Epoch 25 - Train Loss: 0.0486, Val Loss: 0.0143, Val Accuracy: 91.24%\n",
            "2025-03-03 19:37:27,818 - INFO - Train Epoch: 26 [0/8346 (0%)]\tLoss: 0.010791, Accuracy: 1.0000\n",
            "2025-03-03 19:39:40,497 - INFO - Train Epoch: 26 [6400/8346 (77%)]\tLoss: 0.032296, Accuracy: 1.0000\n",
            "2025-03-03 19:40:32,561 - INFO - Validation set: Average loss: 0.0151, Accuracy: 713/776 (91.88%)\n",
            "2025-03-03 19:40:32,562 - INFO - Epoch 26 - Train Loss: 0.0331, Val Loss: 0.0151, Val Accuracy: 91.88%\n",
            "2025-03-03 19:40:33,218 - INFO - Train Epoch: 27 [0/8346 (0%)]\tLoss: 0.006000, Accuracy: 1.0000\n",
            "2025-03-03 19:42:45,832 - INFO - Train Epoch: 27 [6400/8346 (77%)]\tLoss: 0.002113, Accuracy: 1.0000\n",
            "2025-03-03 19:43:38,917 - INFO - Validation set: Average loss: 0.0202, Accuracy: 681/776 (87.76%)\n",
            "2025-03-03 19:43:38,917 - INFO - Epoch 27 - Train Loss: 0.0330, Val Loss: 0.0202, Val Accuracy: 87.76%\n",
            "2025-03-03 19:43:39,565 - INFO - Train Epoch: 28 [0/8346 (0%)]\tLoss: 0.080293, Accuracy: 0.9688\n",
            "2025-03-03 19:45:54,194 - INFO - Train Epoch: 28 [6400/8346 (77%)]\tLoss: 0.024606, Accuracy: 1.0000\n",
            "2025-03-03 19:46:47,686 - INFO - Validation set: Average loss: 0.0157, Accuracy: 708/776 (91.24%)\n",
            "2025-03-03 19:46:47,686 - INFO - Epoch 28 - Train Loss: 0.0363, Val Loss: 0.0157, Val Accuracy: 91.24%\n",
            "2025-03-03 19:46:48,326 - INFO - Train Epoch: 29 [0/8346 (0%)]\tLoss: 0.000224, Accuracy: 1.0000\n",
            "2025-03-03 19:49:01,973 - INFO - Train Epoch: 29 [6400/8346 (77%)]\tLoss: 0.046652, Accuracy: 0.9688\n",
            "2025-03-03 19:49:54,736 - INFO - Validation set: Average loss: 0.0130, Accuracy: 719/776 (92.65%)\n",
            "2025-03-03 19:49:54,736 - INFO - Epoch 29 - Train Loss: 0.0484, Val Loss: 0.0130, Val Accuracy: 92.65%\n",
            "2025-03-03 19:49:55,413 - INFO - Train Epoch: 30 [0/8346 (0%)]\tLoss: 0.139769, Accuracy: 0.9688\n",
            "2025-03-03 19:52:08,477 - INFO - Train Epoch: 30 [6400/8346 (77%)]\tLoss: 0.078021, Accuracy: 0.9688\n",
            "2025-03-03 19:53:01,733 - INFO - Validation set: Average loss: 0.0158, Accuracy: 704/776 (90.72%)\n",
            "2025-03-03 19:53:01,733 - INFO - Epoch 30 - Train Loss: 0.0374, Val Loss: 0.0158, Val Accuracy: 90.72%\n",
            "2025-03-03 19:53:01,844 - INFO - Model saved to ../models/road_surface_classification.pth\n",
            "Figure(1000x600)\n",
            "Figure(1000x600)\n"
          ]
        }
      ]
    }
  ]
}